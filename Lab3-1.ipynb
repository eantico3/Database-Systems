{
 "cells": [
  {
   "cell_type": "code",
   "execution_count": 1,
   "metadata": {},
   "outputs": [],
   "source": [
    "#Name: Daniel Nametz, Partner: Emily Antico, RH Database Lab3"
   ]
  },
  {
   "cell_type": "code",
   "execution_count": 2,
   "metadata": {},
   "outputs": [],
   "source": [
    "%load_ext sql"
   ]
  },
  {
   "cell_type": "code",
   "execution_count": 3,
   "metadata": {},
   "outputs": [],
   "source": [
    "%sql sqlite:///lab3.db3"
   ]
  },
  {
   "cell_type": "code",
   "execution_count": 4,
   "metadata": {},
   "outputs": [
    {
     "name": "stdout",
     "output_type": "stream",
     "text": [
      "Done.\n"
     ]
    },
    {
     "data": {
      "text/html": [
       "<table>\n",
       "    <tr>\n",
       "        <th>name</th>\n",
       "    </tr>\n",
       "    <tr>\n",
       "        <td>students</td>\n",
       "    </tr>\n",
       "    <tr>\n",
       "        <td>courses</td>\n",
       "    </tr>\n",
       "    <tr>\n",
       "        <td>scores</td>\n",
       "    </tr>\n",
       "    <tr>\n",
       "        <td>teachers</td>\n",
       "    </tr>\n",
       "</table>"
      ],
      "text/plain": [
       "[('students',), ('courses',), ('scores',), ('teachers',)]"
      ]
     },
     "execution_count": 4,
     "metadata": {},
     "output_type": "execute_result"
    }
   ],
   "source": [
    "%%sql sqlite://\n",
    "    SELECT name\n",
    "    FROM sqlite_master\n",
    "    WHERE type='table' AND name NOT LIKE 'sqlite_%';"
   ]
  },
  {
   "cell_type": "code",
   "execution_count": 5,
   "metadata": {},
   "outputs": [
    {
     "name": "stdout",
     "output_type": "stream",
     "text": [
      " * sqlite:///lab3.db3\n",
      "Done.\n"
     ]
    },
    {
     "data": {
      "text/html": [
       "<table>\n",
       "    <tr>\n",
       "        <th>sno</th>\n",
       "    </tr>\n",
       "    <tr>\n",
       "        <td>105</td>\n",
       "    </tr>\n",
       "    <tr>\n",
       "        <td>108</td>\n",
       "    </tr>\n",
       "</table>"
      ],
      "text/plain": [
       "[('105',), ('108',)]"
      ]
     },
     "execution_count": 5,
     "metadata": {},
     "output_type": "execute_result"
    }
   ],
   "source": [
    "%%sql \n",
    "--In the score table, find the student number that has all the grades in between 90 and 70.--\n",
    "SELECT sno\n",
    "FROM scores \n",
    "EXCEPT \n",
    "    SELECT sno\n",
    "    FROM scores\n",
    "    WHERE grade > 90 or grade < 70"
   ]
  },
  {
   "cell_type": "code",
   "execution_count": 6,
   "metadata": {},
   "outputs": [
    {
     "name": "stdout",
     "output_type": "stream",
     "text": [
      " * sqlite:///lab3.db3\n",
      "Done.\n"
     ]
    },
    {
     "data": {
      "text/html": [
       "<table>\n",
       "    <tr>\n",
       "        <th>AVG(grade)</th>\n",
       "        <th>cno</th>\n",
       "    </tr>\n",
       "    <tr>\n",
       "        <td>77.66666666666667</td>\n",
       "        <td>3-105</td>\n",
       "    </tr>\n",
       "    <tr>\n",
       "        <td>79.0</td>\n",
       "        <td>6-106</td>\n",
       "    </tr>\n",
       "    <tr>\n",
       "        <td>83.0</td>\n",
       "        <td>6-166</td>\n",
       "    </tr>\n",
       "</table>"
      ],
      "text/plain": [
       "[(77.66666666666667, '3-105'), (79.0, '6-106'), (83.0, '6-166')]"
      ]
     },
     "execution_count": 6,
     "metadata": {},
     "output_type": "execute_result"
    }
   ],
   "source": [
    "%%sql\n",
    "--For all the courses that took by class 15033, calculate the average grade. --\n",
    "\n",
    "--find sno in class 15033 --\n",
    "\n",
    "--check course that those sno took --\n",
    "\n",
    "--then get grades and calculate average grade for each course. --\n",
    "\n",
    "SELECT AVG(grade), cno\n",
    "FROM scores s, students t\n",
    "WHERE s.sno = t.sno and t.class = 15033 \n",
    "GROUP BY s.cno"
   ]
  },
  {
   "cell_type": "code",
   "execution_count": 7,
   "metadata": {},
   "outputs": [
    {
     "name": "stdout",
     "output_type": "stream",
     "text": [
      " * sqlite:///lab3.db3\n",
      "Done.\n"
     ]
    },
    {
     "data": {
      "text/html": [
       "<table>\n",
       "    <tr>\n",
       "        <th>class</th>\n",
       "        <th>COUNT (sgender)</th>\n",
       "    </tr>\n",
       "    <tr>\n",
       "        <td>15031</td>\n",
       "        <td>2</td>\n",
       "    </tr>\n",
       "    <tr>\n",
       "        <td>15033</td>\n",
       "        <td>2</td>\n",
       "    </tr>\n",
       "</table>"
      ],
      "text/plain": [
       "[('15031', 2), ('15033', 2)]"
      ]
     },
     "execution_count": 7,
     "metadata": {},
     "output_type": "execute_result"
    }
   ],
   "source": [
    "%%sql\n",
    "--Find the class number that has at least two male students. --\n",
    "\n",
    "SELECT class, COUNT (sgender)\n",
    "FROM students\n",
    "WHERE sgender='M'\n",
    "GROUP By class\n",
    "HAVING COUNT (sgender)>=2\n"
   ]
  },
  {
   "cell_type": "code",
   "execution_count": 8,
   "metadata": {},
   "outputs": [
    {
     "name": "stdout",
     "output_type": "stream",
     "text": [
      " * sqlite:///lab3.db3\n",
      "Done.\n"
     ]
    },
    {
     "data": {
      "text/html": [
       "<table>\n",
       "    <tr>\n",
       "        <th>tname</th>\n",
       "        <th>title</th>\n",
       "    </tr>\n",
       "    <tr>\n",
       "        <td>Dan</td>\n",
       "        <td>AP</td>\n",
       "    </tr>\n",
       "    <tr>\n",
       "        <td>Emma</td>\n",
       "        <td>TA</td>\n",
       "    </tr>\n",
       "    <tr>\n",
       "        <td>Frank</td>\n",
       "        <td>LE</td>\n",
       "    </tr>\n",
       "</table>"
      ],
      "text/plain": [
       "[('Dan', 'AP'), ('Emma', 'TA'), ('Frank', 'LE')]"
      ]
     },
     "execution_count": 8,
     "metadata": {},
     "output_type": "execute_result"
    }
   ],
   "source": [
    "%%sql\n",
    "--Find the teachers name in CS and EE department, where they have different title. Return both name and title--\n",
    "\n",
    "--find name and title-- \n",
    "--nested query to find where they have different titles--\n",
    "\n",
    "SELECT tname, title\n",
    "FROM teachers\n",
    "EXCEPT\n",
    "    SELECT tname, title\n",
    "    FROM teachers\n",
    "    WHERE department != 'EE' or department != 'CS'\n",
    "    GROUP BY title\n",
    "    HAVING COUNT(title) > 1\n",
    "\n",
    "    \n",
    "/*\n",
    "This returns the distinct titles from the departments of CS and EE\n",
    "Alice doesnt show up because she shares a title with emma\n",
    "*/\n"
   ]
  },
  {
   "cell_type": "code",
   "execution_count": 9,
   "metadata": {},
   "outputs": [
    {
     "name": "stdout",
     "output_type": "stream",
     "text": [
      " * sqlite:///lab3.db3\n",
      "Done.\n"
     ]
    },
    {
     "data": {
      "text/html": [
       "<table>\n",
       "    <tr>\n",
       "        <th>sname</th>\n",
       "    </tr>\n",
       "    <tr>\n",
       "        <td>Quincy</td>\n",
       "    </tr>\n",
       "    <tr>\n",
       "        <td>Lily</td>\n",
       "    </tr>\n",
       "    <tr>\n",
       "        <td>Gary</td>\n",
       "    </tr>\n",
       "</table>"
      ],
      "text/plain": [
       "[('Quincy',), ('Lily',), ('Gary',)]"
      ]
     },
     "execution_count": 9,
     "metadata": {},
     "output_type": "execute_result"
    }
   ],
   "source": [
    "%%sql\n",
    "--Find the students, who took the course number \"3-105\" and have earned a grade, at least, higher than the students who took \"3-245\" course. Return the results in a descending order of grade.--\n",
    "\n",
    "SELECT sname\n",
    "FROM students s, scores c\n",
    "WHERE s.sno=c.sno and c.cno = \"3-105\" and c.grade>(\n",
    "    SELECT MAX(grade)\n",
    "    FROM scores\n",
    "    WHERE cno = \"3-245\"\n",
    ")\n",
    "ORDER BY c.grade DESC"
   ]
  },
  {
   "cell_type": "code",
   "execution_count": 10,
   "metadata": {},
   "outputs": [
    {
     "name": "stdout",
     "output_type": "stream",
     "text": [
      " * sqlite:///lab3.db3\n",
      "Done.\n"
     ]
    },
    {
     "data": {
      "text/html": [
       "<table>\n",
       "    <tr>\n",
       "        <th>sname</th>\n",
       "    </tr>\n",
       "    <tr>\n",
       "        <td>Alex</td>\n",
       "    </tr>\n",
       "    <tr>\n",
       "        <td>Eva</td>\n",
       "    </tr>\n",
       "    <tr>\n",
       "        <td>Gary</td>\n",
       "    </tr>\n",
       "    <tr>\n",
       "        <td>Lily</td>\n",
       "    </tr>\n",
       "    <tr>\n",
       "        <td>Peter</td>\n",
       "    </tr>\n",
       "</table>"
      ],
      "text/plain": [
       "[('Alex',), ('Eva',), ('Gary',), ('Lily',), ('Peter',)]"
      ]
     },
     "execution_count": 10,
     "metadata": {},
     "output_type": "execute_result"
    }
   ],
   "source": [
    "%%sql\n",
    "--Find the students, who took more than 1 course, and return the students names that is not the one with highest grade --\n",
    "\n",
    "SELECT sname\n",
    "FROM students s, scores c\n",
    "EXCEPT\n",
    "    SELECT MAX(sname)\n",
    "    FROM students\n",
    "    WHERE(\n",
    "        SELECT MAX(grade)\n",
    "        FROM scores\n",
    "        EXCEPT\n",
    "            -- this excludes anyone with 1 or less classes -- \n",
    "            SELECT COUNT(sno) AS Frequency \n",
    "            FROM scores\n",
    "            GROUP BY sno\n",
    "            HAVING COUNT(sno) <= 1\n",
    "        )\n",
    "    \n",
    "\n",
    "-- should return every name except quincy--"
   ]
  },
  {
   "cell_type": "code",
   "execution_count": 11,
   "metadata": {},
   "outputs": [
    {
     "name": "stdout",
     "output_type": "stream",
     "text": [
      " * sqlite:///lab3.db3\n",
      "Done.\n"
     ]
    },
    {
     "data": {
      "text/html": [
       "<table>\n",
       "    <tr>\n",
       "        <th>sno</th>\n",
       "        <th>cno</th>\n",
       "        <th>grade</th>\n",
       "    </tr>\n",
       "    <tr>\n",
       "        <td>105</td>\n",
       "        <td>3-245</td>\n",
       "        <td>75</td>\n",
       "    </tr>\n",
       "    <tr>\n",
       "        <td>109</td>\n",
       "        <td>3-245</td>\n",
       "        <td>68</td>\n",
       "    </tr>\n",
       "    <tr>\n",
       "        <td>109</td>\n",
       "        <td>3-105</td>\n",
       "        <td>76</td>\n",
       "    </tr>\n",
       "    <tr>\n",
       "        <td>101</td>\n",
       "        <td>3-105</td>\n",
       "        <td>64</td>\n",
       "    </tr>\n",
       "    <tr>\n",
       "        <td>108</td>\n",
       "        <td>3-105</td>\n",
       "        <td>78</td>\n",
       "    </tr>\n",
       "    <tr>\n",
       "        <td>107</td>\n",
       "        <td>6-106</td>\n",
       "        <td>79</td>\n",
       "    </tr>\n",
       "    <tr>\n",
       "        <td>108</td>\n",
       "        <td>6-166</td>\n",
       "        <td>81</td>\n",
       "    </tr>\n",
       "</table>"
      ],
      "text/plain": [
       "[('105', '3-245', 75),\n",
       " ('109', '3-245', 68),\n",
       " ('109', '3-105', 76),\n",
       " ('101', '3-105', 64),\n",
       " ('108', '3-105', 78),\n",
       " ('107', '6-106', 79),\n",
       " ('108', '6-166', 81)]"
      ]
     },
     "execution_count": 11,
     "metadata": {},
     "output_type": "execute_result"
    }
   ],
   "source": [
    "%%sql\n",
    "--For each course, find the students who earned a grade less than the average grade of this course --\n",
    "\n",
    "\n",
    "SELECT sno, cno, grade\n",
    "FROM scores c\n",
    "WHERE grade < (\n",
    "    SELECT AVG(grade)\n",
    "    FROM scores\n",
    "    GROUP BY cno\n",
    ")"
   ]
  },
  {
   "cell_type": "code",
   "execution_count": 12,
   "metadata": {},
   "outputs": [
    {
     "name": "stdout",
     "output_type": "stream",
     "text": [
      " * sqlite:///lab3.db3\n",
      "Done.\n"
     ]
    },
    {
     "data": {
      "text/html": [
       "<table>\n",
       "    <tr>\n",
       "        <th>sno</th>\n",
       "        <th>sname</th>\n",
       "        <th>sgender</th>\n",
       "        <th>sbirthday</th>\n",
       "        <th>class</th>\n",
       "    </tr>\n",
       "    <tr>\n",
       "        <td>108</td>\n",
       "        <td>Peter</td>\n",
       "        <td>M</td>\n",
       "        <td>1997-09-01</td>\n",
       "        <td>15033</td>\n",
       "    </tr>\n",
       "    <tr>\n",
       "        <td>105</td>\n",
       "        <td>Gary</td>\n",
       "        <td>M</td>\n",
       "        <td>1995-10-02</td>\n",
       "        <td>15031</td>\n",
       "    </tr>\n",
       "    <tr>\n",
       "        <td>107</td>\n",
       "        <td>Lily</td>\n",
       "        <td>F</td>\n",
       "        <td>1996-01-23</td>\n",
       "        <td>15033</td>\n",
       "    </tr>\n",
       "    <tr>\n",
       "        <td>101</td>\n",
       "        <td>Alex</td>\n",
       "        <td>M</td>\n",
       "        <td>1996-02-20</td>\n",
       "        <td>15033</td>\n",
       "    </tr>\n",
       "    <tr>\n",
       "        <td>109</td>\n",
       "        <td>Eva</td>\n",
       "        <td>F</td>\n",
       "        <td>1995-02-10</td>\n",
       "        <td>15031</td>\n",
       "    </tr>\n",
       "    <tr>\n",
       "        <td>103</td>\n",
       "        <td>Quincy</td>\n",
       "        <td>M</td>\n",
       "        <td>1994-06-03</td>\n",
       "        <td>15031</td>\n",
       "    </tr>\n",
       "</table>"
      ],
      "text/plain": [
       "[('108', 'Peter', 'M', '1997-09-01', '15033'),\n",
       " ('105', 'Gary', 'M', '1995-10-02', '15031'),\n",
       " ('107', 'Lily', 'F', '1996-01-23', '15033'),\n",
       " ('101', 'Alex', 'M', '1996-02-20', '15033'),\n",
       " ('109', 'Eva', 'F', '1995-02-10', '15031'),\n",
       " ('103', 'Quincy', 'M', '1994-06-03', '15031')]"
      ]
     },
     "execution_count": 12,
     "metadata": {},
     "output_type": "execute_result"
    }
   ],
   "source": [
    "%%sql\n",
    "SELECT *\n",
    "FROM students"
   ]
  },
  {
   "cell_type": "code",
   "execution_count": 13,
   "metadata": {},
   "outputs": [
    {
     "name": "stdout",
     "output_type": "stream",
     "text": [
      " * sqlite:///lab3.db3\n",
      "Done.\n"
     ]
    },
    {
     "data": {
      "text/html": [
       "<table>\n",
       "    <tr>\n",
       "        <th>sno</th>\n",
       "        <th>cno</th>\n",
       "        <th>grade</th>\n",
       "    </tr>\n",
       "    <tr>\n",
       "        <td>103</td>\n",
       "        <td>3-245</td>\n",
       "        <td>86</td>\n",
       "    </tr>\n",
       "    <tr>\n",
       "        <td>105</td>\n",
       "        <td>3-245</td>\n",
       "        <td>75</td>\n",
       "    </tr>\n",
       "    <tr>\n",
       "        <td>109</td>\n",
       "        <td>3-245</td>\n",
       "        <td>68</td>\n",
       "    </tr>\n",
       "    <tr>\n",
       "        <td>103</td>\n",
       "        <td>3-105</td>\n",
       "        <td>92</td>\n",
       "    </tr>\n",
       "    <tr>\n",
       "        <td>105</td>\n",
       "        <td>3-105</td>\n",
       "        <td>88</td>\n",
       "    </tr>\n",
       "    <tr>\n",
       "        <td>109</td>\n",
       "        <td>3-105</td>\n",
       "        <td>76</td>\n",
       "    </tr>\n",
       "    <tr>\n",
       "        <td>101</td>\n",
       "        <td>3-105</td>\n",
       "        <td>64</td>\n",
       "    </tr>\n",
       "    <tr>\n",
       "        <td>107</td>\n",
       "        <td>3-105</td>\n",
       "        <td>91</td>\n",
       "    </tr>\n",
       "    <tr>\n",
       "        <td>108</td>\n",
       "        <td>3-105</td>\n",
       "        <td>78</td>\n",
       "    </tr>\n",
       "    <tr>\n",
       "        <td>101</td>\n",
       "        <td>6-166</td>\n",
       "        <td>85</td>\n",
       "    </tr>\n",
       "    <tr>\n",
       "        <td>107</td>\n",
       "        <td>6-106</td>\n",
       "        <td>79</td>\n",
       "    </tr>\n",
       "    <tr>\n",
       "        <td>108</td>\n",
       "        <td>6-166</td>\n",
       "        <td>81</td>\n",
       "    </tr>\n",
       "</table>"
      ],
      "text/plain": [
       "[('103', '3-245', 86),\n",
       " ('105', '3-245', 75),\n",
       " ('109', '3-245', 68),\n",
       " ('103', '3-105', 92),\n",
       " ('105', '3-105', 88),\n",
       " ('109', '3-105', 76),\n",
       " ('101', '3-105', 64),\n",
       " ('107', '3-105', 91),\n",
       " ('108', '3-105', 78),\n",
       " ('101', '6-166', 85),\n",
       " ('107', '6-106', 79),\n",
       " ('108', '6-166', 81)]"
      ]
     },
     "execution_count": 13,
     "metadata": {},
     "output_type": "execute_result"
    }
   ],
   "source": [
    "%%sql\n",
    "SELECT *\n",
    "FROM scores\n"
   ]
  },
  {
   "cell_type": "code",
   "execution_count": 14,
   "metadata": {},
   "outputs": [
    {
     "name": "stdout",
     "output_type": "stream",
     "text": [
      " * sqlite:///lab3.db3\n",
      "Done.\n"
     ]
    },
    {
     "data": {
      "text/html": [
       "<table>\n",
       "    <tr>\n",
       "        <th>tno</th>\n",
       "        <th>tname</th>\n",
       "        <th>tgender</th>\n",
       "        <th>tbirthday</th>\n",
       "        <th>title</th>\n",
       "        <th>department</th>\n",
       "    </tr>\n",
       "    <tr>\n",
       "        <td>804</td>\n",
       "        <td>Dan</td>\n",
       "        <td>M</td>\n",
       "        <td>1958-12-02</td>\n",
       "        <td>AP</td>\n",
       "        <td>CS</td>\n",
       "    </tr>\n",
       "    <tr>\n",
       "        <td>856</td>\n",
       "        <td>Frank</td>\n",
       "        <td>M</td>\n",
       "        <td>1969-03-12</td>\n",
       "        <td>LE</td>\n",
       "        <td>EE</td>\n",
       "    </tr>\n",
       "    <tr>\n",
       "        <td>825</td>\n",
       "        <td>Alice</td>\n",
       "        <td>F</td>\n",
       "        <td>1972-05-05</td>\n",
       "        <td>TA</td>\n",
       "        <td>CS</td>\n",
       "    </tr>\n",
       "    <tr>\n",
       "        <td>831</td>\n",
       "        <td>Emma</td>\n",
       "        <td>F</td>\n",
       "        <td>1977-08-14</td>\n",
       "        <td>TA</td>\n",
       "        <td>EE</td>\n",
       "    </tr>\n",
       "</table>"
      ],
      "text/plain": [
       "[('804', 'Dan', 'M', '1958-12-02', 'AP', 'CS'),\n",
       " ('856', 'Frank', 'M', '1969-03-12', 'LE', 'EE'),\n",
       " ('825', 'Alice', 'F', '1972-05-05', 'TA', 'CS'),\n",
       " ('831', 'Emma', 'F', '1977-08-14', 'TA', 'EE')]"
      ]
     },
     "execution_count": 14,
     "metadata": {},
     "output_type": "execute_result"
    }
   ],
   "source": [
    "%%sql\n",
    "SELECT *\n",
    "FROM teachers"
   ]
  },
  {
   "cell_type": "code",
   "execution_count": null,
   "metadata": {},
   "outputs": [],
   "source": []
  }
 ],
 "metadata": {
  "kernelspec": {
   "display_name": "Python 3",
   "language": "python",
   "name": "python3"
  },
  "language_info": {
   "codemirror_mode": {
    "name": "ipython",
    "version": 3
   },
   "file_extension": ".py",
   "mimetype": "text/x-python",
   "name": "python",
   "nbconvert_exporter": "python",
   "pygments_lexer": "ipython3",
   "version": "3.8.5"
  }
 },
 "nbformat": 4,
 "nbformat_minor": 4
}
